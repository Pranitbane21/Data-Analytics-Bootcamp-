{
 "cells": [
  {
   "cell_type": "markdown",
   "id": "ee646d3e",
   "metadata": {},
   "source": [
    "1. What do you mean by cells in an excel sheet?\n",
    "\n",
    "__Ans__.\n",
    "\n",
    "- A cell is a rectangular area formed by the intersection of a column and a row. Cells are identified by the Cell Name (or Reference, which is found by combining the Column Letter with the Row Number. For example the cell in Column \"C\" in Row \"3\" would be cell C3.\n",
    "\n",
    "---"
   ]
  },
  {
   "cell_type": "markdown",
   "id": "890a26e8",
   "metadata": {},
   "source": [
    "2. How can you restrict someone from copying a cell from your worksheet?\n",
    "\n",
    "__Ans__.\n",
    "- In order to protect your worksheet from getting copied, you need to go into Menu bar >Review > Protect sheet > Password.   By entering password, you can secure your worksheet from getting copied by others.\n",
    "\n",
    "---"
   ]
  },
  {
   "cell_type": "markdown",
   "id": "a659ad13",
   "metadata": {},
   "source": [
    "3. How to move or copy the worksheet into another workbook?\n",
    "\n",
    "__Ans__.\n",
    "- Open the workbook that you want to move the sheet to.\n",
    "- On the Window menu, click the workbook that contains the sheet that you want to move. ...\n",
    "- On the Edit menu, click Sheet > Move or Copy Sheet.\n",
    "- On the To book menu, click the workbook that you want to move the sheet to.\n",
    "\n",
    "---"
   ]
  },
  {
   "cell_type": "markdown",
   "id": "e0c5fbc0",
   "metadata": {},
   "source": [
    "4. Which key is used as a shortcut for opening a new window document?\n",
    "\n",
    "__Ans__.\n",
    "\n",
    "- The keyboard shortcut to open a new window documnet is Alt + W + N .\n",
    "\n",
    "---"
   ]
  },
  {
   "cell_type": "markdown",
   "id": "42e91ee9",
   "metadata": {},
   "source": [
    "5. What are the things that we can notice after opening the Excel interface?\n",
    "\n",
    "__Ans__."
   ]
  },
  {
   "cell_type": "markdown",
   "id": "4753b556",
   "metadata": {},
   "source": [
    "- After opening the excel interface we notice the following things which are properly displayed below in points:- \n",
    "\n",
    "1. Columns (labeled with letters) and rows (labeled with numbers) make up the cells of your worksheet.\n",
    "\n",
    "2. Clicking the File tab opens the Backstage view of your workbook, where you can open and save files, get information about the current workbook, and perform other tasks that do not have to do with the content of the workbook, such as printing it or sending a copy of it in e-mail.\n",
    "\n",
    "3. There are multiple tabs, each tab in the ribbon displays commands that are grouped by task. You'll probably spend most of your time using the Home tab, when you're entering and formatting data. Use the Insert tab to add tables, charts, pictures, or other graphics to your worksheet. Use the Page Layout tab to adjust margins and layout, especially for printing. Use the Formulas tab to make calculations on the data in your worksheet.\n",
    "\n",
    "4. The pane along the side of the Excel Starter window includes links to Help and shortcuts to templates and clip art, to give you a head-start on creating workbooks for specific tasks, such as managing a membership list or tracking expenses. The pane also displays advertising and a link to purchase a full-feature edition of Office.\n",
    "\n",
    "---"
   ]
  },
  {
   "cell_type": "code",
   "execution_count": null,
   "id": "dd428fdf",
   "metadata": {},
   "outputs": [],
   "source": []
  }
 ],
 "metadata": {
  "kernelspec": {
   "display_name": "Python 3 (ipykernel)",
   "language": "python",
   "name": "python3"
  },
  "language_info": {
   "codemirror_mode": {
    "name": "ipython",
    "version": 3
   },
   "file_extension": ".py",
   "mimetype": "text/x-python",
   "name": "python",
   "nbconvert_exporter": "python",
   "pygments_lexer": "ipython3",
   "version": "3.9.7"
  }
 },
 "nbformat": 4,
 "nbformat_minor": 5
}
