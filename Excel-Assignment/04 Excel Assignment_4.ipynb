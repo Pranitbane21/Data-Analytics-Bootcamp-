{
 "cells": [
  {
   "cell_type": "markdown",
   "id": "a857f80b",
   "metadata": {},
   "source": [
    "1. To use the ribbon commands, what menu and grouping of commands will you\n",
    "   find the Insert and Delete command?\n",
    "\n",
    "__Ans__. \n",
    "- Home: This is the most popular bar and displayed by default when excel is opened. This tab contains the basic Clipboard commands, formatting commands, style commands, commands to insert and delete rows or columns, plus an assortment of worksheet editing commands.\n",
    "\n",
    "---"
   ]
  },
  {
   "cell_type": "markdown",
   "id": "8436b08c",
   "metadata": {},
   "source": [
    "2. If you set a row height or column width to 0 (zero), what happens to the row and\n",
    "   column?\n",
    "\n",
    "__Ans__. If we set a row height or column width to 0 (zero), it will hide row or column respectively. "
   ]
  },
  {
   "cell_type": "markdown",
   "id": "770ea774",
   "metadata": {},
   "source": [
    "3. Is there a need to change the height and width in a cell? Why?\n",
    "\n",
    "__Ans__.\n",
    "\n",
    "- Yes,It is necessary to change width and height in excel to fit the data. Excel by default provide equal width and height with respect to columns and rows. Whenever we enter a lengthy data, few characters will get displayed and other will be present inside the cell but will be hidden to the user."
   ]
  },
  {
   "cell_type": "markdown",
   "id": "91e048c4",
   "metadata": {},
   "source": [
    "4. What is the keyboard shortcut to unhide rows?\n",
    "\n",
    "__Ans__. Shortcut key to unhide rows is __Ctrl+Shift+(__ to Unhide Rows."
   ]
  },
  {
   "cell_type": "markdown",
   "id": "d1855a26",
   "metadata": {},
   "source": [
    "5. How to hide rows containing blank cells?\n",
    "\n",
    "__Ans__. \n",
    "\n",
    "With the Go To Special function, you can select the blank cells first and then apply the short cut keys to hide the rows which contain blank cells. Please do with following steps:\n",
    "\n",
    "1. Select the data range which contains the blank cells you want to hide.\n",
    "\n",
    "2. Then click Home > Find & Select > Go To Special, see screenshot:\n",
    "   - Tip: You also can press Ctrl + G to open Go To dialog and click Special to get the Go To Special dialog.\n",
    "\n",
    "\n",
    "3. And in the Go To Special dialog, select Blanks option, and then click OK button.\n",
    "\n",
    "4. All of the blank cells in the selection have been selected.\n",
    "\n",
    "5. Then you can press Ctrl + 9 keys together to hide the rows which have blank cells."
   ]
  },
  {
   "cell_type": "markdown",
   "id": "f2e063c5",
   "metadata": {},
   "source": [
    "6. What are the steps to hide the duplicate values using conditional formatting in\n",
    "   excel?\n",
    "\n",
    "__Ans__. Following are the steps top hide the duplicate values using conditional formatting:-\n",
    "- Select range A2:A5.\n",
    "- On the Ribbon's Home tab, click the Conditional Formatting button, then click New Rule.\n",
    "- Click Use a Formula to Determine Which Cells to Format.\n",
    "- For the formula, enter. =A2=A1.\n",
    "- Click the Format button.\n",
    "- Select a font colour to match the cell colour.\n",
    "- Click OK, click OK."
   ]
  },
  {
   "cell_type": "code",
   "execution_count": null,
   "id": "ce7903c6",
   "metadata": {},
   "outputs": [],
   "source": []
  }
 ],
 "metadata": {
  "kernelspec": {
   "display_name": "Python 3 (ipykernel)",
   "language": "python",
   "name": "python3"
  },
  "language_info": {
   "codemirror_mode": {
    "name": "ipython",
    "version": 3
   },
   "file_extension": ".py",
   "mimetype": "text/x-python",
   "name": "python",
   "nbconvert_exporter": "python",
   "pygments_lexer": "ipython3",
   "version": "3.9.7"
  }
 },
 "nbformat": 4,
 "nbformat_minor": 5
}
