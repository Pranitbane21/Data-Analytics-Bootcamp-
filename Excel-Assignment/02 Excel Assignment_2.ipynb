{
 "cells": [
  {
   "cell_type": "markdown",
   "id": "f66eb157",
   "metadata": {},
   "source": [
    "1. What does the dollar($) sign do?\n",
    "\n",
    "__Ans__.\n",
    "\n",
    "- Using dollar sign means either make column or row or both constant.  When we copy formulae vertically down or      horizontally right, it freezes reference of particular cell and do now allow that reference to move from it's position.\n",
    "\n",
    "Type of cell references where $ sign is used:\n",
    "\n",
    "1. Absolute Referece (Dollar sign against both row and column reference)\n",
    "\n",
    "2. Mixed Reference with column constant (Dollar sign against column name only)\n",
    "\n",
    "3. Mixed Reference with row constant (Dollar sign against row number only)\n",
    "\n",
    "---\n"
   ]
  },
  {
   "cell_type": "markdown",
   "id": "d06bb65b",
   "metadata": {},
   "source": [
    "2. How to Change the Reference from Relative to Absolute (or Mixed)?\n",
    "\n",
    "__Ans__.\n",
    "- To change the type of cell reference:\n",
    "\n",
    "1. Select the cell that contains the formula.\n",
    "\n",
    "2. In the formula bar Button image, select the reference that you want to change.\n",
    "\n",
    "3. Press F4 to switch between the reference types.\n",
    "\n",
    "4. if a formula containing the reference is copied two cells down and two cells to the right.\n",
    "\n",
    "---"
   ]
  },
  {
   "cell_type": "markdown",
   "id": "0a11ff10",
   "metadata": {},
   "source": [
    "3. Explain the order of operations in excel?\n",
    "\n",
    "__Ans__.\n",
    "\n",
    "1. When evaluating a formula, Excel follows a standard math protocol called \"order of operations\". In general, Excel's order of operation follows the acronym PEMDAS (Parentheses, Exponents, Multiplication, Division, Addition, Subtraction) but with some customization to handle the formula syntax in a spreadsheet. \n",
    "\n",
    "2. First, any expressions in parentheses are evaluated. Parentheses essentially override the normal order of operations to ensure certain operations are performed first.\n",
    "\n",
    "3. Next, Excel will resolve references. This involves replacing cell references like A1 with the value from the cell, as well as evaluating range references like A1:A5, which become arrays of values. Other range operations like union (comma) and intersection (space) also happen at this time.\n",
    "\n",
    "4. Next, Excel will perform exponentiation, negation, and percent conversions (in that order), followed by multiplication and division, addition and subtraction, and concatenation. Finally, Excel will evaluate logical operators, if present.\n",
    "\n",
    "In summary, Excel solves formulas in the following order:\n",
    "\n",
    "- Parentheses\n",
    "- Reference operators\n",
    "- Exponents\n",
    "- Negation\n",
    "- Percent\n",
    "- Multiplication and Division\n",
    "- Addition and Subtraction\n",
    "- Concatenation\n",
    "- Logical operators\n",
    "\n",
    "---"
   ]
  },
  {
   "cell_type": "markdown",
   "id": "8a13774a",
   "metadata": {},
   "source": [
    "4. What, according to you, are the top 5 functions in excel and write a basic syntax\n",
    "   for any of two?\n",
    "\n",
    "__Ans__.\n",
    "\n",
    "1. SUM  :-This function works to sum a group of numbers in a specific set of cells.\n",
    "2. TEXT :-Text function is a useful tool that helps convert a date (or number) into a text string in a particular format.\n",
    "3. VLOOKUP :-VLookup is powerful Excel function that is often overlooked. Users will find it useful when they need to find              specific data on a large table. You can also use VLookup to search for names, phone number, or specific data                on your sheet. Instead of manually looking for the names and wasting time scrolling through hundreds of data,              the VLookup function makes this process faster and more efficient.\n",
    "4. AVERAGE :-The average function is an extremely useful tool for getting the average value in a range of cells. Like the                sum function, it is frequently used in computing and analyzing data on spreadsheet.\n",
    "5. CONCATENATE:- This function is a good time saver when you need to combine data from 2 or more cells. \n",
    "\n",
    "---"
   ]
  },
  {
   "cell_type": "markdown",
   "id": "6ae31bf5",
   "metadata": {},
   "source": [
    "5. When would you use the subtotal function?\n",
    "\n",
    " __Ans__.\n",
    "\n",
    "- The SUBTOTAL function is used when you display a Total row in an Excel Table. Excel inserts the SUBTOTAL function automatically, and you can use a drop-down menu to switch behavior and show max, min, average, etc.\n"
   ]
  },
  {
   "cell_type": "markdown",
   "id": "34f3e83c",
   "metadata": {},
   "source": [
    "6. What is the syntax of the vlookup function? Explain the terms in it?\n",
    "\n",
    "__Ans__.\n",
    "- Use VLOOKUP when you need to find things in a table or a range by row. For example, look up a price of an automotive part   by the part number, or find an employee name based on their employee ID.\n",
    "- In its simplest form, the VLOOKUP function says:\n",
    "\n",
    "  =VLOOKUP(What you want to look up, where you want to look for it, the column number in the range containing the value to   return, return an Approximate or Exact match – indicated as 1/TRUE, or 0/FALSE).\n",
    "  \n",
    "  ---"
   ]
  },
  {
   "cell_type": "code",
   "execution_count": null,
   "id": "8221fdfa",
   "metadata": {},
   "outputs": [],
   "source": []
  }
 ],
 "metadata": {
  "kernelspec": {
   "display_name": "Python 3 (ipykernel)",
   "language": "python",
   "name": "python3"
  },
  "language_info": {
   "codemirror_mode": {
    "name": "ipython",
    "version": 3
   },
   "file_extension": ".py",
   "mimetype": "text/x-python",
   "name": "python",
   "nbconvert_exporter": "python",
   "pygments_lexer": "ipython3",
   "version": "3.9.7"
  }
 },
 "nbformat": 4,
 "nbformat_minor": 5
}
