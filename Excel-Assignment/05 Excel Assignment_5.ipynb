{
 "cells": [
  {
   "cell_type": "markdown",
   "id": "34ddadf7",
   "metadata": {},
   "source": [
    "1. How many types of conditions are available in conditional formatting on Excel?\n",
    "\n",
    "__Ans__. You can include up to three different conditions on any cell or range of cells."
   ]
  },
  {
   "cell_type": "markdown",
   "id": "71c72c2f",
   "metadata": {},
   "source": [
    "2. How to insert border in Excel with Format Cells dialog?\n",
    "\n",
    "__Ans__.To insert border in Excel with Format Cells dialog\n",
    "- Select one or more cells to which you'd like to add borders.\n",
    "- Open the Format Cells dialog box by doing one of the following: ...\n",
    "- In the Format Cells dialog box, switch to the Border tab and choose the line style and color first. ...\n",
    "- When done, click OK."
   ]
  },
  {
   "cell_type": "markdown",
   "id": "0feb9194",
   "metadata": {},
   "source": [
    "3. How to Format Numbers as Currency in Excel?\n",
    "\n",
    "__Ans__. TO format numbers as currency in Excel:-\n",
    "- Select the cells that you want to format and then, in the Number group on the Home tab, click the down arrow in the Number Format box.\n",
    "\n",
    "- Then choose Currency \n",
    "\n",
    "---"
   ]
  },
  {
   "cell_type": "markdown",
   "id": "998ddabd",
   "metadata": {},
   "source": [
    "4. What are the steps to format numbers in Excel with the Percent style?\n",
    "\n",
    "__Ans__.\n",
    "- On the Home tab, in the Number group, click the icon next to Number to display the Format Cells dialog box. In the Format Cells dialog box, in the Category list, click Percentage. In the Decimal places box, enter the number of decimal places that you want to display."
   ]
  },
  {
   "cell_type": "markdown",
   "id": "f93ce6f6",
   "metadata": {},
   "source": [
    "5. What is a shortcut to merge two or more cells in excel?\n",
    "\n",
    "__Ans__.\n",
    "\n",
    "- To merge two or more cells, highlight them and then press the following keys at the same time: ALT H+M+M. Merge and center cells: If you would like to merge cells and center your text at the same time, you can highlight the cells and press these keys: ALT H+M+C."
   ]
  },
  {
   "cell_type": "markdown",
   "id": "d9536996",
   "metadata": {},
   "source": [
    "6. How do you use text commands in Excel?\n",
    "\n",
    "__Ans__.\n",
    "- Select the column, or range where you'll be putting the values, then use CTRL+1 to bring up the Format > Cells dialog and   on the Number tab select Text."
   ]
  },
  {
   "cell_type": "code",
   "execution_count": null,
   "id": "f03d76b6",
   "metadata": {},
   "outputs": [],
   "source": []
  }
 ],
 "metadata": {
  "kernelspec": {
   "display_name": "Python 3 (ipykernel)",
   "language": "python",
   "name": "python3"
  },
  "language_info": {
   "codemirror_mode": {
    "name": "ipython",
    "version": 3
   },
   "file_extension": ".py",
   "mimetype": "text/x-python",
   "name": "python",
   "nbconvert_exporter": "python",
   "pygments_lexer": "ipython3",
   "version": "3.9.7"
  }
 },
 "nbformat": 4,
 "nbformat_minor": 5
}
