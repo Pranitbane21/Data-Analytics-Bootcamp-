{
 "cells": [
  {
   "cell_type": "markdown",
   "id": "d5629e4b",
   "metadata": {},
   "source": [
    "1. How and when to use the AutoSum command in excel?\n",
    "\n",
    "__Ans__. \n",
    "- If you need to sum a column or row of numbers, let Excel do the math for you. Select a cell next to the numbers you want   to sum, click __AutoSum__ on the Home tab, press Enter, and you're done. When you click AutoSum, Excel automatically       enters a formula (that uses the SUM function) to sum the numbers."
   ]
  },
  {
   "cell_type": "markdown",
   "id": "f5b37449",
   "metadata": {},
   "source": [
    "2. What is the shortcut key to perform AutoSum?\n",
    "\n",
    "__Ans__. Shortcut Key to perform AutoSum is __ALT + the = sign__."
   ]
  },
  {
   "cell_type": "markdown",
   "id": "cedae9b4",
   "metadata": {},
   "source": [
    "3. How do you get rid of Formula that omits adjacent cells?\n",
    "\n",
    "__Ans__. To turn off the notification \"Formula Omits Adjacent Cells\" you're getting, kindly follow the steps below:\n",
    "1. Open Excel and then click on File.\n",
    "2. Go to Options and then select Formulas.\n",
    "3. Look for Error checking rules and uncheck Formulas which omit cells in a region.\n",
    "4. Click OK.\n",
    "\n",
    "---"
   ]
  },
  {
   "cell_type": "markdown",
   "id": "18fff186",
   "metadata": {},
   "source": [
    "4. How do you select non-adjacent cells in Excel 2016?\n",
    "\n",
    "__Ans__.Selecting Non Adjacent Cells with a Mouse\n",
    "Along with your mouse, you also need the computer keyboard to select one or more rows and columns.\n",
    "\n",
    "- Click on the cell.\n",
    "- Press the Control key on the keyboard. Keep holding it down while you are selecting cells.\n",
    "- Hold the left-click button on the mouse and drag it to the cells you want to select.\n",
    "\n",
    "---"
   ]
  },
  {
   "cell_type": "markdown",
   "id": "1cd87349",
   "metadata": {},
   "source": [
    "5. What happens if you choose a column, hold down the Alt key and press the letters ocw in quick succession?\n",
    "\n",
    "__Ans__.If we choose a column, hold down the Alt Key and press the letters ocw in quick sucession, We can change column width. \n",
    "\n",
    "---"
   ]
  },
  {
   "cell_type": "markdown",
   "id": "61b21fe4",
   "metadata": {},
   "source": [
    "6. If you right-click on a row reference number and click on Insert, where will the row\n",
    "   be added?\n",
    "   \n",
    "__Ans__. If you right-click on a row reference number and click on Insert,row will be added after the row we selected"
   ]
  },
  {
   "cell_type": "code",
   "execution_count": null,
   "id": "a6cca716",
   "metadata": {},
   "outputs": [],
   "source": []
  }
 ],
 "metadata": {
  "kernelspec": {
   "display_name": "Python 3 (ipykernel)",
   "language": "python",
   "name": "python3"
  },
  "language_info": {
   "codemirror_mode": {
    "name": "ipython",
    "version": 3
   },
   "file_extension": ".py",
   "mimetype": "text/x-python",
   "name": "python",
   "nbconvert_exporter": "python",
   "pygments_lexer": "ipython3",
   "version": "3.9.7"
  }
 },
 "nbformat": 4,
 "nbformat_minor": 5
}
